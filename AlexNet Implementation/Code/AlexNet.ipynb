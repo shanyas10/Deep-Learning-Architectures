{
 "cells": [
  {
   "cell_type": "code",
   "execution_count": 1,
   "metadata": {},
   "outputs": [
    {
     "name": "stderr",
     "output_type": "stream",
     "text": [
      "C:\\Users\\I353565\\AppData\\Local\\Anaconda\\Continuum\\anaconda3\\lib\\site-packages\\h5py\\__init__.py:36: FutureWarning: Conversion of the second argument of issubdtype from `float` to `np.floating` is deprecated. In future, it will be treated as `np.float64 == np.dtype(float).type`.\n",
      "  from ._conv import register_converters as _register_converters\n",
      "Using TensorFlow backend.\n"
     ]
    }
   ],
   "source": [
    "import keras\n",
    "from keras.models import Sequential\n",
    "from keras.layers import MaxPooling2D, Dense, Dropout, Flatten, Conv2D, BatchNormalization, Activation\n",
    "from keras import optimizers\n",
    "import os\n"
   ]
  },
  {
   "cell_type": "code",
   "execution_count": 2,
   "metadata": {},
   "outputs": [],
   "source": [
    "batch_size = 32\n",
    "num_classes = 10\n",
    "epochs = 50\n",
    "num_predictions = 20\n",
    "save_dir = os.path.join(os.getcwd(), 'saved_models')\n",
    "model_name = 'keras_cifar10_trained_model.h5'\n",
    "input_size = (3,227,227)"
   ]
  },
  {
   "cell_type": "code",
   "execution_count": 3,
   "metadata": {},
   "outputs": [],
   "source": [
    "from keras.preprocessing.image import ImageDataGenerator"
   ]
  },
  {
   "cell_type": "markdown",
   "metadata": {},
   "source": [
    "#### Loading Data"
   ]
  },
  {
   "cell_type": "code",
   "execution_count": 4,
   "metadata": {},
   "outputs": [
    {
     "name": "stdout",
     "output_type": "stream",
     "text": [
      "Found 2002 images belonging to 2 classes.\n",
      "Found 800 images belonging to 2 classes.\n"
     ]
    }
   ],
   "source": [
    "# This will do preprocessing and realtime data augmentation:\n",
    "# Compute quantities required for feature-wise normalization\n",
    "# (std, mean, and principal components if ZCA whitening is applied).\n",
    "train_datagen = ImageDataGenerator(\n",
    "    width_shift_range=0.1,\n",
    "    # randomly shift images vertically (fraction of total height)\n",
    "    height_shift_range=0.1,\n",
    "    fill_mode='nearest',\n",
    "    horizontal_flip=True,  # randomly flip images ;Mentioned in the paper\n",
    ")\n",
    "\n",
    "test_datagen = ImageDataGenerator()\n",
    "\n",
    "train_gen = train_datagen.flow_from_directory(\n",
    "            '../Data/Train',\n",
    "            batch_size=batch_size,\n",
    "            shuffle=True,\n",
    "            target_size=input_size[1:],\n",
    "            class_mode='categorical')\n",
    "\n",
    "validation_gen = test_datagen.flow_from_directory(\n",
    "                '../Data/Test',\n",
    "                batch_size=batch_size,\n",
    "                shuffle=True,\n",
    "                target_size=input_size[1:],\n",
    "                class_mode='categorical')\n",
    "\n",
    "\n",
    "\n"
   ]
  },
  {
   "cell_type": "code",
   "execution_count": 7,
   "metadata": {},
   "outputs": [],
   "source": [
    "#Note that I'll be using Batch Normalization instead of LRN\n",
    "def create_alexnet():\n",
    "    inputShape = (227,227,3)   # Note that input shape is mentioned as 224x224x3 in AlexNet Paper. \n",
    "                               # It actually is 227X227X3 as mentioned by Andrej Karpathy in CS231N\n",
    "    \n",
    "    alexnet = Sequential()\n",
    "    \n",
    "    # Layer 1.\n",
    "        # [Input] ==> 227x227x3\n",
    "        # --> 227x227x3 ==> [Convolution: size=(11x11x3)x96, strides=4, padding=valid] ==> 55x55x96\n",
    "        # --> 55x55x96 ==> [ReLU] ==> 55x55x96\n",
    "        # --> 55x55x96 ==> [Batch Normalization] ==> 55x55x96\n",
    "        # --> 55x55x96 ==> [Max-Pool: size=3x3, strides=2, padding=valid] ==> 27x27x96\n",
    "        # --> [Output] ==> 27x27x96\n",
    "    alexnet.add(Conv2D(filters = 96, kernel_size = (11,11), strides = (4,4), input_shape = (227,227,3), padding = 'valid'))\n",
    "    alexnet.add(Activation('relu'))\n",
    "    alexnet.add(BatchNormalization(axis = 1))\n",
    "    alexnet.add(MaxPooling2D(pool_size = (3,3), strides = 2, padding = 'valid'))\n",
    "    \n",
    "    # Layer 2.\n",
    "        # [Input] ==> 27x27x96\n",
    "        # --> 27x27x96 ==> [Convolution: size=(5x5x96)x256, strides=1, padding=same] ==> 27x27x256\n",
    "        # --> 27x27x256 ==> [ReLU] ==> 27x27x256\n",
    "        # --> 27x27x256 ==> [Batch Normalization] ==> 27x27x256\n",
    "        # --> 27x27x256 ==> [Max-Pool: size=3x3, strides=2, padding=valid] ==> 13x13x256\n",
    "        # --> [Output] ==> 13x13x256\n",
    "    alexnet.add(Conv2D(filters = 256, kernel_size = (5,5), strides = (1,1), padding= 'same'))\n",
    "    alexnet.add(Activation('relu'))\n",
    "    alexnet.add(BatchNormalization(axis = 1))\n",
    "    alexnet.add(MaxPooling2D(pool_size = (3,3), strides = 2, padding = 'valid'))\n",
    "    \n",
    "    # Layer 3.\n",
    "        # [Input] ==> 13x13x256\n",
    "        # --> 13x13x256 ==> [Convolution: size=(3x3x256)x384, strides=1, padding=same] ==> 13x13x384\n",
    "        # --> 13x13x384 ==> [ReLU] ==> 13x13x384\n",
    "        # --> [Output] ==> 13x13x384\n",
    "    alexnet.add(Conv2D(filters = 384, kernel_size = (3,3), strides = (1,1), padding='same'))\n",
    "    alexnet.add(Activation('relu'))\n",
    "    \n",
    "    # Layer 4.\n",
    "        # [Input] ==> 13x13x384\n",
    "        # --> 13x13x384 ==> [Convolution: size=(3x3x384)x384, strides=1, padding=same] ==> 13x13x384\n",
    "        # --> 13x13x384 ==> [ReLU] ==> 13x13x384\n",
    "        # --> [Output] ==> 13x13x384\n",
    "    alexnet.add(Conv2D(filters = 384, kernel_size = (3,3), strides = (1,1), padding='same'))\n",
    "    alexnet.add(Activation('relu'))\n",
    "    \n",
    "    # Layer 5.\n",
    "        # [Input] ==> 13x13x384\n",
    "        # --> 13x13x384 ==> [Convolution: size=(3x3x384)x256, strides=1, padding=same] ==> 13x13x256\n",
    "        # --> 13x13x256 ==> [ReLU] ==> 13x13x256\n",
    "        # --> 13x13x256 ==> [Max-Pool: size=3x3, strides=2, padding=valid] ==> 6x6x256\n",
    "        # --> [Output] ==> 6x6x256\n",
    "    alexnet.add(Conv2D(filters = 256, kernel_size = (3,3), strides = (1,1), padding = 'same'))\n",
    "    alexnet.add(Activation('relu'))\n",
    "    alexnet.add(MaxPooling2D(pool_size = (3,3), strides = 2, padding = 'valid'))\n",
    "    \n",
    "    # Layer 6.\n",
    "        # [Input] ==> 6x6x256=9216\n",
    "        # --> 9216 ==> [Fully Connected: neurons=4096] ==> 4096\n",
    "        # --> 4096 ==> [ReLU] ==> 4096\n",
    "        # --> [Output] ==> 4096\n",
    "    alexnet.add(Flatten())\n",
    "    alexnet.add(Dense(4096))\n",
    "    alexnet.add(Activation(\"relu\"))\n",
    "   \n",
    "    # Layer 7.\n",
    "        # [Input] ==> 4096\n",
    "        # --> 4096 ==> [Fully Connected: neurons=4096] ==> 4096\n",
    "        # --> 4096 ==> [ReLU] ==> 4096\n",
    "        # --> [Output] ==> 4096\n",
    "    \n",
    "    alexnet.add(Dense(4096))\n",
    "    alexnet.add(Activation(\"relu\"))\n",
    "    \n",
    "    # Layer 8.\n",
    "        # [Input] ==> 4096\n",
    "        # --> 4096 ==> [Logits: neurons=1000] ==> 1000\n",
    "        # --> [Output] ==> 1000\n",
    "    alexnet.add(Dense(2))\n",
    "    alexnet.add(Activation(\"softmax\"))\n",
    "    \n",
    "    alexnet.summary()\n",
    "    return alexnet\n",
    "    "
   ]
  },
  {
   "cell_type": "code",
   "execution_count": 6,
   "metadata": {},
   "outputs": [
    {
     "name": "stdout",
     "output_type": "stream",
     "text": [
      "_________________________________________________________________\n",
      "Layer (type)                 Output Shape              Param #   \n",
      "=================================================================\n",
      "conv2d_1 (Conv2D)            (None, 55, 55, 96)        34944     \n",
      "_________________________________________________________________\n",
      "activation_1 (Activation)    (None, 55, 55, 96)        0         \n",
      "_________________________________________________________________\n",
      "batch_normalization_1 (Batch (None, 55, 55, 96)        220       \n",
      "_________________________________________________________________\n",
      "max_pooling2d_1 (MaxPooling2 (None, 27, 27, 96)        0         \n",
      "_________________________________________________________________\n",
      "conv2d_2 (Conv2D)            (None, 27, 27, 256)       614656    \n",
      "_________________________________________________________________\n",
      "activation_2 (Activation)    (None, 27, 27, 256)       0         \n",
      "_________________________________________________________________\n",
      "batch_normalization_2 (Batch (None, 27, 27, 256)       108       \n",
      "_________________________________________________________________\n",
      "max_pooling2d_2 (MaxPooling2 (None, 13, 13, 256)       0         \n",
      "_________________________________________________________________\n",
      "conv2d_3 (Conv2D)            (None, 13, 13, 384)       885120    \n",
      "_________________________________________________________________\n",
      "activation_3 (Activation)    (None, 13, 13, 384)       0         \n",
      "_________________________________________________________________\n",
      "conv2d_4 (Conv2D)            (None, 13, 13, 384)       1327488   \n",
      "_________________________________________________________________\n",
      "activation_4 (Activation)    (None, 13, 13, 384)       0         \n",
      "_________________________________________________________________\n",
      "conv2d_5 (Conv2D)            (None, 13, 13, 256)       884992    \n",
      "_________________________________________________________________\n",
      "activation_5 (Activation)    (None, 13, 13, 256)       0         \n",
      "_________________________________________________________________\n",
      "max_pooling2d_3 (MaxPooling2 (None, 6, 6, 256)         0         \n",
      "_________________________________________________________________\n",
      "flatten_1 (Flatten)          (None, 9216)              0         \n",
      "_________________________________________________________________\n",
      "dense_1 (Dense)              (None, 4096)              37752832  \n",
      "_________________________________________________________________\n",
      "activation_6 (Activation)    (None, 4096)              0         \n",
      "_________________________________________________________________\n",
      "dropout_1 (Dropout)          (None, 4096)              0         \n",
      "_________________________________________________________________\n",
      "dense_2 (Dense)              (None, 4096)              16781312  \n",
      "_________________________________________________________________\n",
      "activation_7 (Activation)    (None, 4096)              0         \n",
      "_________________________________________________________________\n",
      "dropout_2 (Dropout)          (None, 4096)              0         \n",
      "_________________________________________________________________\n",
      "dense_3 (Dense)              (None, 2)                 8194      \n",
      "_________________________________________________________________\n",
      "activation_8 (Activation)    (None, 2)                 0         \n",
      "=================================================================\n",
      "Total params: 58,289,866\n",
      "Trainable params: 58,289,702\n",
      "Non-trainable params: 164\n",
      "_________________________________________________________________\n"
     ]
    }
   ],
   "source": [
    "model = create_alexnet()"
   ]
  },
  {
   "cell_type": "code",
   "execution_count": null,
   "metadata": {},
   "outputs": [],
   "source": [
    "sgd = optimizers.SGD(lr=0.01, decay=1e-6, momentum=0.9, nesterov=True)\n",
    "model.compile(loss='mse',\n",
    "              optimizer=sgd,\n",
    "              metrics=['accuracy'])"
   ]
  },
  {
   "cell_type": "code",
   "execution_count": null,
   "metadata": {},
   "outputs": [],
   "source": [
    "# Fit the model on the batches generated by train_datagen\n",
    "history = model.fit_generator(train_gen,\n",
    "                              steps_per_epoch=100,\n",
    "                              epochs=epochs,\n",
    "                              validation_steps=20,\n",
    "                              validation_data=validation_gen, \n",
    "                              verbose = 1)"
   ]
  },
  {
   "cell_type": "code",
   "execution_count": null,
   "metadata": {},
   "outputs": [],
   "source": [
    "if not os.path.isdir(save_dir):\n",
    "    os.makedirs(save_dir)\n",
    "model_path = os.path.join(save_dir, model_name)\n",
    "model.save(model_path)\n",
    "print('Saved trained model at %s ' % model_path)\n",
    "\n",
    "# Score trained model.\n",
    "scores = model.evaluate(x_test, y_test, verbose=1)\n",
    "print('Test loss:', scores[0])\n",
    "print('Test accuracy:', scores[1])"
   ]
  },
  {
   "cell_type": "code",
   "execution_count": null,
   "metadata": {},
   "outputs": [],
   "source": []
  }
 ],
 "metadata": {
  "kernelspec": {
   "display_name": "Python 3",
   "language": "python",
   "name": "python3"
  },
  "language_info": {
   "codemirror_mode": {
    "name": "ipython",
    "version": 3
   },
   "file_extension": ".py",
   "mimetype": "text/x-python",
   "name": "python",
   "nbconvert_exporter": "python",
   "pygments_lexer": "ipython3",
   "version": "3.6.5"
  }
 },
 "nbformat": 4,
 "nbformat_minor": 2
}
